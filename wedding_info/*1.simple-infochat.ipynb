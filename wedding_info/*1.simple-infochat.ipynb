{
 "cells": [
  {
   "cell_type": "code",
   "execution_count": null,
   "metadata": {},
   "outputs": [],
   "source": [
    "pip install -qU langchain_community tiktoken langchain-openai langchainhub chromadb langchain langgraph json dotenv"
   ]
  },
  {
   "cell_type": "code",
   "execution_count": 4,
   "metadata": {},
   "outputs": [],
   "source": [
    "import os\n",
    "from dotenv import load_dotenv\n",
    "\n",
    "load_dotenv()\n",
    "\n",
    "os.environ['OPENAI_API_KEY'] = os.getenv('OPENAI_API_KEY')\n",
    "os.environ['TAVILY_API_KEY']= os.getenv('TAVILY_API_KEY')"
   ]
  },
  {
   "cell_type": "markdown",
   "metadata": {},
   "source": [
    "# 웨딩 자유 질문"
   ]
  },
  {
   "cell_type": "code",
   "execution_count": 5,
   "metadata": {},
   "outputs": [],
   "source": [
    "PROMPT_TEMPLATE = \"\"\"\n",
    "# 지시 사항\n",
    "당신은 결혼식 정보를 제공하는 AI 어시스턴트입니다. 사용자가 웨딩 관련 질문을 하면, 정확하고 친절하게 답변을 제공하세요. 모든 정보는 한국 결혼식 문화를 기반으로 해야 합니다.\n",
    "\n",
    "# 내용 \n",
    "사용자의 질문에 따라 다음과 같은 정보를 제공하세요:\n",
    "\n",
    "1. **웨딩홀 선택**: 지역별, 가격대별 웨딩홀 추천 및 특징 설명.\n",
    "2. **예식 절차**: 한국 전통 결혼식과 현대 결혼식의 절차를 비교하여 설명.\n",
    "3. **예산 계획**: 결혼식 예산을 계획하는 방법과 비용 절감 팁 제공.\n",
    "4. **웨딩 서비스**: 사진, 영상, 메이크업, 드레스 등 웨딩 서비스에 대한 상세 정보.\n",
    "\n",
    "# 주의 사항\n",
    "- 항상 한국어로 응답하세요.\n",
    "- 사용자의 질문이 불명확할 경우, 더 구체적인 정보를 요청하여 정확한 답변을 준비하세요.\n",
    "\n",
    "# 시작!\n",
    "이전 대화 기록:\n",
    "{chat_history}\n",
    "\n",
    "새로운 입력: {input}\n",
    "\"\"\""
   ]
  },
  {
   "cell_type": "code",
   "execution_count": 6,
   "metadata": {},
   "outputs": [
    {
     "name": "stderr",
     "output_type": "stream",
     "text": [
      "/var/folders/k3/f4f9x_vx7zg0vcl_gmq4gd0c0000gn/T/ipykernel_2295/3413765515.py:33: LangChainDeprecationWarning: The class `LLMChain` was deprecated in LangChain 0.1.17 and will be removed in 1.0. Use :meth:`~RunnableSequence, e.g., `prompt | llm`` instead.\n",
      "  self.chain = LLMChain(\n"
     ]
    },
    {
     "name": "stdout",
     "output_type": "stream",
     "text": [
      "리뷰 정리 어시스턴트입니다. 질문해 주세요! (종료하려면 'quit' 입력)\n"
     ]
    },
    {
     "name": "stderr",
     "output_type": "stream",
     "text": [
      "/var/folders/k3/f4f9x_vx7zg0vcl_gmq4gd0c0000gn/T/ipykernel_2295/3413765515.py:49: LangChainDeprecationWarning: The method `Chain.run` was deprecated in langchain 0.1.0 and will be removed in 1.0. Use :meth:`~invoke` instead.\n",
      "  return self.chain.run(\n"
     ]
    },
    {
     "name": "stdout",
     "output_type": "stream",
     "text": [
      "\n",
      "답변: 안녕하세요! 결혼식 관련해서 궁금한 점이 있으시면 언제든지 물어보세요. 웨딩홀 선택, 예식 절차, 예산 계획, 웨딩 서비스 등 다양한 정보를 제공해드릴 수 있습니다. 어떤 부분에 대해 도움을 드릴까요?\n",
      "\n",
      "답변: 결혼식을 준비할 때는 여러 가지 요소를 고려해야 하지만, 일반적으로 다음과 같은 순서로 준비를 시작하는 것이 좋습니다:\n",
      "\n",
      "1. **예산 설정**: 먼저 결혼식에 사용할 전체 예산을 설정하세요. 이 예산은 웨딩홀, 드레스, 사진, 영상, 메이크업 등 모든 항목에 대한 기준이 됩니다.\n",
      "\n",
      "2. **웨딩 날짜 및 장소 결정**: 결혼식 날짜를 정하고, 그에 맞춰 웨딩홀을 예약하세요. 인기 있는 웨딩홀은 미리 예약이 필요할 수 있으니 서둘러 결정하는 것이 좋습니다.\n",
      "\n",
      "3. **웨딩홀 선택**: 지역과 예산에 맞는 웨딩홀을 선택하세요. 웨딩홀의 위치, 가격, 서비스, 분위기 등을 고려하여 결정합니다.\n",
      "\n",
      "4. **웨딩 서비스 예약**: 사진, 영상, 메이크업, 드레스 등 필요한 웨딩 서비스를 예약하세요. 각 서비스의 스타일과 가격을 비교하여 선택합니다.\n",
      "\n",
      "5. **초대장 및 하객 리스트 작성**: 초대할 하객 리스트를 작성하고, 초대장을 준비하세요. 하객 수에 따라 웨딩홀 좌석 배치도 계획해야 합니다.\n",
      "\n",
      "6. **신혼여행 계획**: 결혼식 후 신혼여행을 계획하세요. 여행지, 예산, 일정 등을 고려하여 준비합니다.\n",
      "\n",
      "각 단계마다 세부적인 계획이 필요할 수 있으니, 더 구체적인 정보가 필요하시면 말씀해 주세요!\n",
      "\n",
      "답변: 안녕하세요! 결혼식 준비에 도움이 필요하시면 언제든지 말씀해 주세요. 웨딩홀 선택, 예식 절차, 예산 계획, 웨딩 서비스 등 다양한 정보를 제공해드릴 수 있습니다. 궁금한 점이 있으시면 언제든지 물어보세요.\n",
      "상담을 종료합니다. 감사합니다!\n"
     ]
    }
   ],
   "source": [
    "import json\n",
    "\n",
    "from langchain.chains import LLMChain\n",
    "from langchain_openai import ChatOpenAI\n",
    "from langchain.memory import ConversationBufferMemory\n",
    "from langchain.prompts import PromptTemplate\n",
    "\n",
    "\n",
    "class ReviewAssistant:\n",
    "    def __init__(self):\n",
    "        \"\"\"\n",
    "        리뷰 어시스턴트 초기화\n",
    "        \n",
    "        Args:\n",
    "            budget_data (dict): 사용자의 예산 정보\n",
    "        \"\"\"\n",
    "        \n",
    "        self.memory = ConversationBufferMemory(\n",
    "            memory_key=\"chat_history\",\n",
    "            input_key=\"input\"\n",
    "        )\n",
    "        \n",
    "        self.prompt = PromptTemplate(\n",
    "            input_variables=[\"chat_history\", \"input\"],\n",
    "            template=PROMPT_TEMPLATE  ##\n",
    "        )\n",
    "        \n",
    "        self.llm = ChatOpenAI(\n",
    "            model=\"gpt-4o\", #\"gpt-4o-mini\"\n",
    "            temperature=0.2\n",
    "        )\n",
    "        \n",
    "        self.chain = LLMChain(\n",
    "            llm=self.llm,\n",
    "            prompt=self.prompt,\n",
    "            memory=self.memory\n",
    "        )\n",
    "    \n",
    "    def ask(self, question):\n",
    "        \"\"\"\n",
    "        질문에 대한 응답 생성\n",
    "        \n",
    "        Args:\n",
    "            question (str): 사용자 질문\n",
    "        \n",
    "        Returns:\n",
    "            str: LLM의 응답\n",
    "        \"\"\"\n",
    "        return self.chain.run(\n",
    "            input=question\n",
    "\n",
    "        )\n",
    "\n",
    "def main():\n",
    "    \n",
    "    assistant = ReviewAssistant()\n",
    "    \n",
    "    print(\"리뷰 정리 어시스턴트입니다. 질문해 주세요! (종료하려면 'quit' 입력)\")\n",
    "    \n",
    "    while True:\n",
    "        user_input = input(\"\\n질문: \")\n",
    "        \n",
    "        if user_input.lower() == 'quit':\n",
    "            print(\"상담을 종료합니다. 감사합니다!\")\n",
    "            break\n",
    "            \n",
    "        try:\n",
    "            response = assistant.ask(user_input)\n",
    "            print(\"\\n답변:\", response)\n",
    "        except Exception as e:\n",
    "            print(f\"\\n오류가 발생했습니다: {str(e)}\")\n",
    "\n",
    "if __name__ == \"__main__\":\n",
    "    main()"
   ]
  },
  {
   "cell_type": "code",
   "execution_count": null,
   "metadata": {},
   "outputs": [],
   "source": []
  }
 ],
 "metadata": {
  "kernelspec": {
   "display_name": "wedding",
   "language": "python",
   "name": "python3"
  },
  "language_info": {
   "codemirror_mode": {
    "name": "ipython",
    "version": 3
   },
   "file_extension": ".py",
   "mimetype": "text/x-python",
   "name": "python",
   "nbconvert_exporter": "python",
   "pygments_lexer": "ipython3",
   "version": "3.10.12"
  }
 },
 "nbformat": 4,
 "nbformat_minor": 2
}
