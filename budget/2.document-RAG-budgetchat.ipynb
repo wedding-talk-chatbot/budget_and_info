{
 "cells": [
  {
   "cell_type": "code",
   "execution_count": 1,
   "metadata": {},
   "outputs": [],
   "source": [
    "import os\n",
    "from dotenv import load_dotenv\n",
    "\n",
    "load_dotenv()\n",
    "\n",
    "os.environ['OPENAI_API_KEY'] = os.getenv('OPENAI_API_KEY')\n",
    "os.environ['TAVILY_API_KEY']= os.getenv('TAVILY_API_KEY')"
   ]
  },
  {
   "cell_type": "code",
   "execution_count": 2,
   "metadata": {},
   "outputs": [],
   "source": [
    "import json\n",
    "\n",
    "file_path = 'data.json'  \n",
    "\n",
    "with open(file_path, 'r', encoding='utf-8') as file:\n",
    "    data = json.load(file)"
   ]
  },
  {
   "cell_type": "code",
   "execution_count": 9,
   "metadata": {},
   "outputs": [
    {
     "name": "stdout",
     "output_type": "stream",
     "text": [
      "{'본식': [{'식대': 0}, {'홀 대관료': 1000000}], '스드메': [{'스드메': 1439000}], '예복': [{'예복': 0}], '예물/예단': [{'결혼반지': 2390000}], '신혼여행': [{'숙박비': 0}, {'항공권': 0}, {'투어 및 기타 경비': 0}], '가전/가구': [{'청소기': 759000}, {'침대': 8102000}, {'삼성': 8770000}, {'식탁': 722000}, {'쇼파': 3204820}], '기타': [{'줄눈': 450000}, {'탄성코트': 550000}, {'하자점검': 270000}, {'입주청소': 510000}, {'TV(무타공)': 330000}]}\n"
     ]
    }
   ],
   "source": [
    "def extract_spending_details_by_category(data):\n",
    "    categories = ['본식', '스드메', '예복', '예물/예단', '신혼여행', '가전/가구', '기타']\n",
    "    \n",
    "    result = {category: [] for category in categories}\n",
    "    \n",
    "    for category_data in data['groupedSpendings']:\n",
    "        category_name = category_data['budgetCategory']['budgetCategoryName']\n",
    "        # totalAmount은 사용 x\n",
    "        #ipdb.set_trace()\n",
    "        \n",
    "        if category_name in categories:\n",
    "            for spending in category_data['spendings']:\n",
    "                spending_details = {\n",
    "                    f\"{spending['title']}\": spending['amount']\n",
    "                }\n",
    "                result[category_name].append(spending_details)\n",
    "    \n",
    "    return result\n",
    "\n",
    "\n",
    "extracted_budget_data = extract_spending_details_by_category(data)\n",
    "\n",
    "print(extracted_budget_data)"
   ]
  },
  {
   "cell_type": "code",
   "execution_count": 7,
   "metadata": {},
   "outputs": [],
   "source": [
    "# English \n",
    "PROMPT_TEMPLATE_EG = \"\"\"\n",
    "# Instruction \n",
    "You are an AI assistant helping with wedding budget management. Please respond to the user's questions kindly and accurately. Your goal is to provide helpful advice based on the user’s current wedding budget, suggest possible savings or cost-efficient alternatives, and, when needed, provide additional information by searching the internet for price comparisons, recommendations, or tips.\n",
    "\n",
    "Current wedding budget information:\n",
    "{budget_info}\n",
    "\n",
    "\n",
    "# GUIDELINES:\n",
    "\n",
    "1. Always consider the user’s wedding budget limitations and provide cost-efficient suggestions where possible.\n",
    "2. When there are zero values or missing information in certain categories, offer advice on possible cost ranges or alternatives based on typical wedding expenditures.\n",
    "3. For large expenses, help the user identify areas where they might save by comparing current prices online or recommending alternative options (e.g., for furniture or honeymoon).\n",
    "4. If there are optional categories, ask the user if they would like to explore further options for those categories (e.g., entertainment, videography).\n",
    "5. Only respond to queries that are directly related to wedding budget management or planning.\n",
    "6. Keep your tone friendly, empathetic, and professional.\n",
    "\n",
    "# IMPORTANT : Answer in KOREAN\n",
    "\n",
    "# Begin!\n",
    "\n",
    "Previous conversation history:\n",
    "{chat_history}\n",
    "\n",
    "New input: {input}\n",
    "\n",
    "\"\"\""
   ]
  },
  {
   "cell_type": "markdown",
   "metadata": {},
   "source": [
    "### [To-do] 예산 관련 정보 데이터 수집 -> RAG 구현"
   ]
  }
 ],
 "metadata": {
  "kernelspec": {
   "display_name": "wedding",
   "language": "python",
   "name": "python3"
  },
  "language_info": {
   "codemirror_mode": {
    "name": "ipython",
    "version": 3
   },
   "file_extension": ".py",
   "mimetype": "text/x-python",
   "name": "python",
   "nbconvert_exporter": "python",
   "pygments_lexer": "ipython3",
   "version": "3.10.12"
  }
 },
 "nbformat": 4,
 "nbformat_minor": 2
}
